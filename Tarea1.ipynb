{
 "cells": [
  {
   "cell_type": "markdown",
   "id": "30a4bd99-4899-4ab7-9d2e-f5b45d311e87",
   "metadata": {},
   "source": [
    "# Importing the libraries"
   ]
  },
  {
   "cell_type": "code",
   "execution_count": 10,
   "id": "c4f2c82a-0030-471b-a8ca-97d7346e2e68",
   "metadata": {},
   "outputs": [
    {
     "name": "stdout",
     "output_type": "stream",
     "text": [
      "Train Data Sample: [['images/sink/262_00048051.jpg', '0'], ['images/sink/262_00202339.jpg', '0'], ['images/sink/262_00043468.jpg', '0'], ['images/sink/262_00119722.jpg', '0'], ['images/sink/262_00072354.jpg', '0']]\n",
      "Test Data Sample: [['images/sink/262_00143983.jpg', '0'], ['images/sink/262_00082171.jpg', '0'], ['images/sink/262_00114430.jpg', '0'], ['images/sink/262_00107634.jpg', '0'], ['images/sink/262_00119974.jpg', '0']]\n"
     ]
    }
   ],
   "source": [
    "# Import the libraries\n",
    "import zipfile\n",
    "import os\n",
    "import numpy as np\n",
    "import matplotlib.pyplot as plt\n",
    "from sklearn.svm import SVC\n",
    "from sklearn.decomposition import PCA\n",
    "from sklearn.model_selection import train_test_split\n",
    "from sklearn.model_selection import GridSearchCV\n",
    "from sklearn.preprocessing import StandardScaler\n",
    "from sklearn.metrics import accuracy_score\n",
    "from sklearn.datasets import fetch_openml\n",
    "from sklearn.metrics import accuracy_score, classification_report\n",
    "from PIL import Image\n",
    "import random\n",
    "import umap\n",
    "\n",
    "# Specify the local path where the QuickDraw folder is stored\n",
    "path = '/home/mapacheroja/Desktop/Tarea1/QuickDraw-10/';\n",
    "\n",
    "# Load mapping.txt, train.txt and test.txt files\n",
    "mapping_file = os.path.join(path, 'mapping.txt')\n",
    "with open(mapping_file, 'r') as f:\n",
    "  mapping = {line.split()[0]: int(line.split()[1]) for line in f.readlines()}\n",
    "\n",
    "train_file = os.path.join(path, 'train.txt')\n",
    "with open(train_file, 'r') as f:\n",
    "  train_data = [line.strip().split() for line in f.readlines()]\n",
    "\n",
    "test_file = os.path.join(path, 'test.txt')\n",
    "with open(test_file, 'r') as f:\n",
    "  test_data = [line.strip().split() for line in f.readlines()]\n",
    "\n",
    "# Print sample of train and test data\n",
    "print(f\"Train Data Sample: {train_data[:5]}\")\n",
    "print(f\"Test Data Sample: {test_data[:5]}\")"
   ]
  },
  {
   "cell_type": "code",
   "execution_count": 3,
   "id": "9b6205ee-6cfc-443b-873d-c919bb58e359",
   "metadata": {},
   "outputs": [
    {
     "name": "stdout",
     "output_type": "stream",
     "text": [
      "Subset Train Data Sample: [['images/spreadsheet/278_00087107.jpg', '6'], ['images/sink/262_00001566.jpg', '0'], ['images/trombone/324_00106886.jpg', '9'], ['images/blackberry/033_00037365.jpg', '5'], ['images/teapot/302_00012847.jpg', '3']]\n"
     ]
    }
   ],
   "source": [
    "# Number of samples to randomly select from the training data\n",
    "num_samples = 1000  # Adjust this to the desired number of samples\n",
    "\n",
    "np.random.seed(22)\n",
    "\n",
    "# Randomly sample the indices of the training data\n",
    "random_indices = np.random.choice(len(train_data), size=num_samples, replace=False)\n",
    "\n",
    "# Select the images and labels corresponding to the random indices\n",
    "train_data_subset = [train_data[i] for i in random_indices]\n",
    "train_images_subset = [os.path.join(path, item[0]) for item in train_data_subset]\n",
    "train_labels_subset = [item[1] for item in train_data_subset]\n",
    "\n",
    "print(f\"Subset Train Data Sample: {train_data_subset[:5]}\")"
   ]
  },
  {
   "cell_type": "code",
   "execution_count": 4,
   "id": "01979022-4b93-4d9a-88cb-71a402bad34f",
   "metadata": {},
   "outputs": [
    {
     "name": "stdout",
     "output_type": "stream",
     "text": [
      "Shape of train_images: (1000, 65536)\n",
      "Shape of train_labels: (1000,)\n"
     ]
    }
   ],
   "source": [
    "# Load and preprocess the images\n",
    "train_images = []\n",
    "for img_path in train_images_subset:\n",
    "    img = Image.open(img_path).convert('L')  # Convert to grayscale\n",
    "    img = img.resize((256, 256))  # Ensure size (in case needed)\n",
    "    img_array = np.array(img).flatten()  # Flatten the 256x256 image into a 65536-length vector\n",
    "    train_images.append(img_array)\n",
    "\n",
    "train_images = np.array(train_images)\n",
    "train_labels = np.array(train_labels_subset, dtype=int)\n",
    "\n",
    "print(f\"Shape of train_images: {train_images.shape}\")\n",
    "print(f\"Shape of train_labels: {train_labels.shape}\")"
   ]
  },
  {
   "cell_type": "code",
   "execution_count": 5,
   "id": "9c2a3ae2-50e5-4086-964c-28c70f2e4a3d",
   "metadata": {},
   "outputs": [
    {
     "name": "stdout",
     "output_type": "stream",
     "text": [
      "Shape of test_images: (1166, 65536)\n",
      "Shape of test_labels: (1166,)\n"
     ]
    }
   ],
   "source": [
    "# Prepare test images and labels\n",
    "test_images = []\n",
    "test_labels = []\n",
    "\n",
    "for item in test_data:\n",
    "    img_path = os.path.join(path, item[0])  # <- no extra 'images' here\n",
    "    label = item[1]\n",
    "    img = Image.open(img_path).convert('L')\n",
    "    img = img.resize((256, 256))\n",
    "    img_array = np.array(img).flatten()\n",
    "    test_images.append(img_array)\n",
    "    test_labels.append(label)\n",
    "\n",
    "test_images = np.array(test_images)\n",
    "test_labels = np.array(test_labels, dtype=int)\n",
    "\n",
    "print(f\"Shape of test_images: {test_images.shape}\")\n",
    "print(f\"Shape of test_labels: {test_labels.shape}\")"
   ]
  },
  {
   "cell_type": "code",
   "execution_count": 6,
   "id": "19169c8c-e641-4a63-a75f-4b46a273b754",
   "metadata": {},
   "outputs": [
    {
     "name": "stdout",
     "output_type": "stream",
     "text": [
      "Ready\n"
     ]
    }
   ],
   "source": [
    "scaler = StandardScaler()\n",
    "train_images_scaled = scaler.fit_transform(train_images)\n",
    "test_images_scaled = scaler.transform(test_images)\n",
    "\n",
    "print(\"Ready\")"
   ]
  },
  {
   "cell_type": "code",
   "execution_count": 8,
   "id": "c8fa57f1-dacd-42fd-9393-6ff339729a75",
   "metadata": {},
   "outputs": [
    {
     "name": "stdout",
     "output_type": "stream",
     "text": [
      "Accuracy with RBF kernel + Raw Vectors: 0.5961\n",
      "              precision    recall  f1-score   support\n",
      "\n",
      "           0       0.72      0.51      0.60       120\n",
      "           1       0.65      0.60      0.62       122\n",
      "           2       0.56      0.56      0.56       131\n",
      "           3       0.62      0.73      0.67       116\n",
      "           4       0.41      0.64      0.50       105\n",
      "           5       0.50      0.66      0.57       103\n",
      "           6       0.62      0.59      0.60       116\n",
      "           7       0.78      0.46      0.58       121\n",
      "           8       0.70      0.85      0.77       130\n",
      "           9       0.53      0.32      0.40       102\n",
      "\n",
      "    accuracy                           0.60      1166\n",
      "   macro avg       0.61      0.59      0.59      1166\n",
      "weighted avg       0.62      0.60      0.59      1166\n",
      "\n"
     ]
    }
   ],
   "source": [
    "# 1. SVM with RBK Kernel\n",
    "\n",
    "# Train SVM with RBF kernel and raw image vectors\n",
    "svm_rbf_raw = SVC(kernel='rbf', C=1.0, gamma='scale')\n",
    "svm_rbf_raw.fit(train_images_scaled, train_labels)\n",
    "\n",
    "# Predictions and evaluation\n",
    "predictions_rbf_raw = svm_rbf_raw.predict(test_images_scaled)\n",
    "accuracy_rbf_raw = accuracy_score(test_labels, predictions_rbf_raw)\n",
    "print(f\"Accuracy with RBF kernel + Raw Vectors: {accuracy_rbf_raw:.4f}\")\n",
    "\n",
    "# Accuracy per class\n",
    "print(classification_report(test_labels, predictions_rbf_raw))"
   ]
  },
  {
   "cell_type": "code",
   "execution_count": 7,
   "id": "9ca08298-5ab4-4b47-84ed-ae9f22d3050b",
   "metadata": {},
   "outputs": [
    {
     "name": "stdout",
     "output_type": "stream",
     "text": [
      "Accuracy with RBF kernel + PCA: 0.5626\n",
      "              precision    recall  f1-score   support\n",
      "\n",
      "           0       0.69      0.54      0.61       120\n",
      "           1       0.69      0.56      0.62       122\n",
      "           2       0.48      0.43      0.45       131\n",
      "           3       0.52      0.79      0.63       116\n",
      "           4       0.38      0.81      0.52       105\n",
      "           5       0.74      0.51      0.61       103\n",
      "           6       0.69      0.27      0.39       116\n",
      "           7       0.79      0.51      0.62       121\n",
      "           8       0.61      0.85      0.71       130\n",
      "           9       0.42      0.32      0.37       102\n",
      "\n",
      "    accuracy                           0.56      1166\n",
      "   macro avg       0.60      0.56      0.55      1166\n",
      "weighted avg       0.60      0.56      0.55      1166\n",
      "\n"
     ]
    }
   ],
   "source": [
    "# Reduce dimensionality with PCA (256 components)\n",
    "pca = PCA(n_components=256)\n",
    "train_images_pca = pca.fit_transform(train_images_scaled)\n",
    "test_images_pca = pca.transform(test_images_scaled)\n",
    "\n",
    "# Train SVM with RBF kernel on PCA features\n",
    "svm_rbf_pca = SVC(kernel='rbf', C=1.0, gamma='scale')\n",
    "svm_rbf_pca.fit(train_images_pca, train_labels)\n",
    "\n",
    "# Predictions and evaluation\n",
    "predictions_rbf_pca = svm_rbf_pca.predict(test_images_pca)\n",
    "accuracy_rbf_pca = accuracy_score(test_labels, predictions_rbf_pca)\n",
    "print(f\"Accuracy with RBF kernel + PCA: {accuracy_rbf_pca:.4f}\")\n",
    "\n",
    "# Accuracy per class\n",
    "print(classification_report(test_labels, predictions_rbf_pca))"
   ]
  },
  {
   "cell_type": "code",
   "execution_count": 28,
   "id": "f19ada41-319d-406d-9bee-645cebc76a2a",
   "metadata": {},
   "outputs": [
    {
     "name": "stdout",
     "output_type": "stream",
     "text": [
      "Accuracy with RBF kernel + UMAP: 0.1973\n",
      "              precision    recall  f1-score   support\n",
      "\n",
      "           0       0.24      0.04      0.07       120\n",
      "           1       0.00      0.00      0.00       122\n",
      "           2       0.33      0.01      0.01       131\n",
      "           3       0.00      0.00      0.00       116\n",
      "           4       0.00      0.00      0.00       105\n",
      "           5       0.72      0.30      0.42       103\n",
      "           6       0.00      0.00      0.00       116\n",
      "           7       0.00      0.00      0.00       121\n",
      "           8       0.64      0.73      0.68       130\n",
      "           9       0.10      0.96      0.19       102\n",
      "\n",
      "    accuracy                           0.20      1166\n",
      "   macro avg       0.20      0.20      0.14      1166\n",
      "weighted avg       0.21      0.20      0.14      1166\n",
      "\n"
     ]
    },
    {
     "name": "stderr",
     "output_type": "stream",
     "text": [
      "/home/mapacheroja/anaconda3/lib/python3.12/site-packages/sklearn/metrics/_classification.py:1531: UndefinedMetricWarning: Precision is ill-defined and being set to 0.0 in labels with no predicted samples. Use `zero_division` parameter to control this behavior.\n",
      "  _warn_prf(average, modifier, f\"{metric.capitalize()} is\", len(result))\n",
      "/home/mapacheroja/anaconda3/lib/python3.12/site-packages/sklearn/metrics/_classification.py:1531: UndefinedMetricWarning: Precision is ill-defined and being set to 0.0 in labels with no predicted samples. Use `zero_division` parameter to control this behavior.\n",
      "  _warn_prf(average, modifier, f\"{metric.capitalize()} is\", len(result))\n",
      "/home/mapacheroja/anaconda3/lib/python3.12/site-packages/sklearn/metrics/_classification.py:1531: UndefinedMetricWarning: Precision is ill-defined and being set to 0.0 in labels with no predicted samples. Use `zero_division` parameter to control this behavior.\n",
      "  _warn_prf(average, modifier, f\"{metric.capitalize()} is\", len(result))\n"
     ]
    }
   ],
   "source": [
    "# Reduce dimensionality with UMAP (256 components)\n",
    "umap_model = umap.UMAP(n_components=256)\n",
    "train_images_umap = umap_model.fit_transform(train_images_scaled)\n",
    "test_images_umap = umap_model.transform(test_images_scaled)\n",
    "\n",
    "# Train SVM with RBF kernel on UMAP features\n",
    "svm_rbf_umap = SVC(kernel='rbf', C=1.0, gamma='scale')\n",
    "svm_rbf_umap.fit(train_images_umap, train_labels)\n",
    "\n",
    "# Predictions and evaluation\n",
    "predictions_rbf_umap = svm_rbf_umap.predict(test_images_umap)\n",
    "accuracy_rbf_umap = accuracy_score(test_labels, predictions_rbf_umap)\n",
    "print(f\"Accuracy with RBF kernel + UMAP: {accuracy_rbf_umap:.4f}\")\n",
    "\n",
    "# Accuracy per class\n",
    "print(classification_report(test_labels, predictions_rbf_umap))"
   ]
  },
  {
   "cell_type": "code",
   "execution_count": 29,
   "id": "b778b5cd-0766-4b90-9973-c47a79c5a489",
   "metadata": {},
   "outputs": [
    {
     "name": "stdout",
     "output_type": "stream",
     "text": [
      "Accuracy with Sigmoid kernel + Raw Vectors: 0.6063\n",
      "              precision    recall  f1-score   support\n",
      "\n",
      "           0       0.64      0.68      0.66       120\n",
      "           1       0.58      0.57      0.58       122\n",
      "           2       0.68      0.57      0.62       131\n",
      "           3       0.63      0.68      0.65       116\n",
      "           4       0.50      0.44      0.47       105\n",
      "           5       0.67      0.64      0.66       103\n",
      "           6       0.66      0.47      0.55       116\n",
      "           7       0.62      0.59      0.60       121\n",
      "           8       0.74      0.78      0.76       130\n",
      "           9       0.39      0.62      0.48       102\n",
      "\n",
      "    accuracy                           0.61      1166\n",
      "   macro avg       0.61      0.60      0.60      1166\n",
      "weighted avg       0.62      0.61      0.61      1166\n",
      "\n"
     ]
    }
   ],
   "source": [
    "# Train SVM with Linear kernel and raw image vectors\n",
    "svm_sigmoid_raw = SVC(kernel='sigmoid', C=1.0)\n",
    "svm_sigmoid_raw.fit(train_images_scaled, train_labels)\n",
    "\n",
    "# Predictions and evaluation\n",
    "predictions_sigmoid_raw = svm_sigmoid_raw.predict(test_images_scaled)\n",
    "accuracy_sigmoid_raw = accuracy_score(test_labels, predictions_sigmoid_raw)\n",
    "print(f\"Accuracy with Sigmoid kernel + Raw Vectors: {accuracy_sigmoid_raw:.4f}\")\n",
    "\n",
    "# Accuracy per class\n",
    "print(classification_report(test_labels, predictions_sigmoid_raw))"
   ]
  },
  {
   "cell_type": "code",
   "execution_count": 30,
   "id": "dd753610-e043-4502-bd04-dfbd395f7ea2",
   "metadata": {},
   "outputs": [
    {
     "name": "stdout",
     "output_type": "stream",
     "text": [
      "Accuracy with Sigmoid kernel + PCA: 0.6021\n",
      "              precision    recall  f1-score   support\n",
      "\n",
      "           0       0.64      0.65      0.65       120\n",
      "           1       0.59      0.57      0.58       122\n",
      "           2       0.70      0.53      0.61       131\n",
      "           3       0.65      0.66      0.66       116\n",
      "           4       0.52      0.45      0.48       105\n",
      "           5       0.62      0.66      0.64       103\n",
      "           6       0.60      0.47      0.53       116\n",
      "           7       0.63      0.60      0.61       121\n",
      "           8       0.74      0.80      0.77       130\n",
      "           9       0.38      0.60      0.46       102\n",
      "\n",
      "    accuracy                           0.60      1166\n",
      "   macro avg       0.61      0.60      0.60      1166\n",
      "weighted avg       0.61      0.60      0.60      1166\n",
      "\n"
     ]
    }
   ],
   "source": [
    "# Train SVM with Linear kernel on PCA features\n",
    "svm_sigmoid_pca = SVC(kernel='sigmoid', C=1.0)\n",
    "svm_sigmoid_pca.fit(train_images_pca, train_labels)\n",
    "\n",
    "# Predictions and evaluation\n",
    "predictions_sigmoid_pca = svm_sigmoid_pca.predict(test_images_pca)\n",
    "accuracy_sigmoid_pca = accuracy_score(test_labels, predictions_sigmoid_pca)\n",
    "print(f\"Accuracy with Sigmoid kernel + PCA: {accuracy_sigmoid_pca:.4f}\")\n",
    "\n",
    "# Accuracy per class\n",
    "print(classification_report(test_labels, predictions_sigmoid_pca))"
   ]
  },
  {
   "cell_type": "code",
   "execution_count": 31,
   "id": "64a4cf8f-5a60-42fe-9a76-196f62d3fee8",
   "metadata": {},
   "outputs": [
    {
     "name": "stdout",
     "output_type": "stream",
     "text": [
      "Accuracy with Polynomial kernel + UMAP: 0.3019\n",
      "              precision    recall  f1-score   support\n",
      "\n",
      "           0       0.14      0.14      0.14       120\n",
      "           1       0.21      0.42      0.28       122\n",
      "           2       0.32      0.05      0.08       131\n",
      "           3       0.30      0.35      0.32       116\n",
      "           4       0.20      0.14      0.17       105\n",
      "           5       0.51      0.31      0.39       103\n",
      "           6       0.18      0.14      0.16       116\n",
      "           7       0.38      0.49      0.43       121\n",
      "           8       0.68      0.55      0.61       130\n",
      "           9       0.26      0.42      0.32       102\n",
      "\n",
      "    accuracy                           0.30      1166\n",
      "   macro avg       0.32      0.30      0.29      1166\n",
      "weighted avg       0.32      0.30      0.29      1166\n",
      "\n"
     ]
    }
   ],
   "source": [
    "# Train SVM with Polynomial kernel on UMAP features\n",
    "svm_poly_umap = SVC(kernel='poly', degree=3, C=1.0, gamma='scale')  # degree=3 for cubic kernel\n",
    "svm_poly_umap.fit(train_images_umap, train_labels)\n",
    "\n",
    "# Predictions and evaluation\n",
    "predictions_poly_umap = svm_poly_umap.predict(test_images_umap)\n",
    "accuracy_poly_umap = accuracy_score(test_labels, predictions_poly_umap)\n",
    "print(f\"Accuracy with Polynomial kernel + UMAP: {accuracy_poly_umap:.4f}\")\n",
    "\n",
    "# Accuracy per class\n",
    "print(classification_report(test_labels, predictions_poly_umap))"
   ]
  },
  {
   "cell_type": "code",
   "execution_count": null,
   "id": "88350662-e030-47bd-bee9-ac09eda6a9cf",
   "metadata": {},
   "outputs": [],
   "source": []
  }
 ],
 "metadata": {
  "kernelspec": {
   "display_name": "Python 3 (ipykernel)",
   "language": "python",
   "name": "python3"
  },
  "language_info": {
   "codemirror_mode": {
    "name": "ipython",
    "version": 3
   },
   "file_extension": ".py",
   "mimetype": "text/x-python",
   "name": "python",
   "nbconvert_exporter": "python",
   "pygments_lexer": "ipython3",
   "version": "3.12.7"
  }
 },
 "nbformat": 4,
 "nbformat_minor": 5
}
